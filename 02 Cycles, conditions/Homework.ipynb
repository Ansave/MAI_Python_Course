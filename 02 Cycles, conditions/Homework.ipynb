{
 "cells": [
  {
   "cell_type": "code",
   "execution_count": 24,
   "metadata": {},
   "outputs": [
    {
     "name": "stdout",
     "output_type": "stream",
     "text": [
      "Список найденных дронов:\n",
      "DJI Mavic 2 Pro\n",
      "DJI Mavic 2 Zoom\n",
      "DJI Mavic 2 Enterprise Advanced\n",
      "DJI Mini 2\n",
      "DJI Inspire 2\n",
      "DJI Mavic 3\n",
      "DJI Mavic Air2s\n",
      "Кол-во найденных дронов: 7\n"
     ]
    }
   ],
   "source": [
    "drone_list = [\"DJI Mavic 2 Pro\", \"DJI Mavic 2 Zoom\", \"DJI Mavic 2 Enterprise Advanced\", \"AUTEL Evo II Pro\", \"DJI Mini 2\", \"Autel Evo Nano\", \"Autel Evo Lite Plus\", \"Parrot Anafi\", \"Dji Inspire 2\", \"DJI Mavic 3\", \"DJI Mavic Air2s\", \"Ryze Tello\", \"Eachine Trashcan\"]\n",
    "\n",
    "drone_weight_list = [903, 900, 920, 980, 249, 249, 600, 540, 1500, 1000, 570, 130, 110]\n",
    "\n",
    "#в drone по очереди попадает каждый дрон из списка drone_list\n",
    "# for drone in drone_list:\n",
    "# \tprint(drone)\n",
    "\n",
    "#TODO1\n",
    "#выведите все дроны производителя, название которого введет пользователь через input, и подсчитайте их количество. \n",
    "#учтите, что:\n",
    "#1) DJI и Dji - это один и тот же производитель! такие случаи тоже должны обрабатываться\n",
    "#2) при выводе исправьте название производителя, если допущена ошибка. правильный вариант названия: DJI, Autel\n",
    "\n",
    "correctNames = (\"DJI\", \"Autel\", \"Ryze\", \"Eachine\", \"Parrot\")\n",
    "search = input(\"Введите название искомого дрона\")\n",
    "foundCount = 0\n",
    "\n",
    "print(\"Список найденных дронов:\")\n",
    "for drone in drone_list:\n",
    "\tif (search.lower() in drone.lower()):\n",
    "\t\tfoundCount += 1\n",
    "\t\tfor label in correctNames:\n",
    "\t\t\tif (label.lower() in drone.lower()):\n",
    "\t\t\t\tprint(drone.replace(drone.split()[0], label))\n",
    "\t\t\t\tbreak\n",
    "print(\"Кол-во найденных дронов: {}\".format(foundCount))\n",
    "\t\t\n",
    "# for drone in drone_list:\n",
    "# \tif (drone.lower().find(search.lower()) != -1):\n",
    "# \t\tfoundCount += 1\n",
    "# \t\tfor label in correctNames:\n",
    "# \t\t\tif (drone.split()[0].lower() == label.lower()):\n",
    "# \t\t\t\tprint(drone.replace(drone.split()[0], label))\n"
   ]
  },
  {
   "cell_type": "code",
   "execution_count": 32,
   "metadata": {},
   "outputs": [
    {
     "name": "stdout",
     "output_type": "stream",
     "text": [
      "[7, 3, 1, 1, 1]\n",
      "DJI: 7\n",
      "Autel: 3\n",
      "Ryze: 1\n",
      "Eachine: 1\n",
      "Parrot: 1\n"
     ]
    }
   ],
   "source": [
    "\n",
    "#TODO2\n",
    "#подсчитайте количество моделей дронов каждого производителя из списка drone_list. производители: DJI, Autel, Parrot, Ryze, Eachine\n",
    "\n",
    "labelsCount = [0, 0, 0, 0, 0]\n",
    "for drone in drone_list:\n",
    "\tfor labelIdx in range(0, len(correctNames)):\n",
    "\t\tif (correctNames[labelIdx].lower() in drone.lower()):\n",
    "\t\t\tlabelsCount[labelIdx] += 1\n",
    "\t\t\n",
    "for labelIdx in range(0, len(correctNames)):\n",
    "\tprint(\"{}: {}\".format(correctNames[labelIdx], labelsCount[labelIdx]))"
   ]
  },
  {
   "cell_type": "code",
   "execution_count": 36,
   "metadata": {},
   "outputs": [
    {
     "name": "stdout",
     "output_type": "stream",
     "text": [
      "Подлежащие регистрации дроны:\n",
      "DJI Mavic 2 Pro - Подлежит регистрации\n",
      "DJI Mavic 2 Zoom - Подлежит регистрации\n",
      "DJI Mavic 2 Enterprise Advanced - Подлежит регистрации\n",
      "AUTEL Evo II Pro - Подлежит регистрации\n",
      "DJI Mini 2 - Подлежит регистрации\n",
      "Autel Evo Nano - Подлежит регистрации\n",
      "Autel Evo Lite Plus - Подлежит регистрации\n",
      "Parrot Anafi - Подлежит регистрации\n",
      "Dji Inspire 2 - Подлежит регистрации\n",
      "DJI Mavic 3 - Подлежит регистрации\n",
      "DJI Mavic Air2s - Подлежит регистрации\n",
      "\n",
      "Неодлежащие регистрации дроны:\n",
      "Ryze Tello - Не подлежит регистрации\n",
      "Eachine Trashcan - Не подлежит регистрации\n"
     ]
    }
   ],
   "source": [
    "\n",
    "#TODO3\n",
    "#выведите все дроны из списка, которые нужно регистрировать (масса больше 150 г), и подсчитайте их количество. \n",
    "#сделайте то же самое для всех дронов, которые не нужно регистрировать\n",
    "#для этого вам нужно параллельно обрабатывать два списка: drone_list и drone_weight_list:\n",
    "#как работает zip, мы разберем на лекции про списки. пока что просто пользуйтесь\n",
    "\n",
    "print(\"Подлежащие регистрации дроны:\")\n",
    "for drone, weight in zip(drone_list,  drone_weight_list):\n",
    "\tif (weight > 150):\n",
    "\t\tprint(\"{} - Подлежит регистрации\".format(drone))\n",
    "\n",
    "print(\"\\nНеподлежащие регистрации дроны:\")\n",
    "for drone, weight in zip(drone_list,  drone_weight_list):\n",
    "\tif (weight <= 150):\n",
    "\t\tprint(\"{} - Не подлежит регистрации\".format(drone))\n"
   ]
  },
  {
   "cell_type": "code",
   "execution_count": 38,
   "metadata": {},
   "outputs": [
    {
     "name": "stdout",
     "output_type": "stream",
     "text": [
      "DJI Mavic 2 Pro требует согласования полёта\n",
      "DJI Mavic 2 Zoom требует согласования полёта\n",
      "DJI Mavic 2 Enterprise Advanced требует согласования полёта\n",
      "AUTEL Evo II Pro требует согласования полёта\n",
      "DJI Mini 2 требует согласования полёта\n",
      "Autel Evo Nano требует согласования полёта\n",
      "Autel Evo Lite Plus требует согласования полёта\n",
      "Parrot Anafi требует согласования полёта\n",
      "Dji Inspire 2 требует согласования полёта\n",
      "DJI Mavic 3 требует согласования полёта\n",
      "DJI Mavic Air2s требует согласования полёта\n",
      "Ryze Tello не требует согласования полёта\n",
      "Eachine Trashcan не требует согласования полёта\n"
     ]
    }
   ],
   "source": [
    "\n",
    "#TODO4\n",
    "#для каждого дрона из списка выведите, нудно ли согласовывать полет при следующих условиях:\n",
    "#высота 100 м, полет над населенным пунктом, вне закрытых зон, в прямой видимости\n",
    "#помните, что для дронов тяжелее 150 г согласовывать полет над населенным пунктом - обязательно!\n",
    "\n",
    "from turtle import isvisible\n",
    "\n",
    "\n",
    "height = 100\n",
    "isCity = True\n",
    "isZoneClosed = False\n",
    "isVisible = True\n",
    "\n",
    "for drone, weight in zip(drone_list,  drone_weight_list):\n",
    "    if (height > 150) or (isCity and weight > 150) or (isZoneClosed) or not isVisible:\n",
    "        print(\"{} требует согласования полёта\".format(drone))\n",
    "    else:\n",
    "        print(\"{} не требует согласования полёта\".format(drone))\n"
   ]
  },
  {
   "cell_type": "code",
   "execution_count": 72,
   "metadata": {},
   "outputs": [
    {
     "name": "stdout",
     "output_type": "stream",
     "text": [
      "Список найденных дронов:\n",
      "Mavic 2 Pro, Mavic 2 Zoom, Mavic 2 Enterprise Advanced, Mini 2, Inspire 2, Mavic 3, Mavic Air2s\n"
     ]
    }
   ],
   "source": [
    "\n",
    "#TODO5*\n",
    "#модифицируйте решение задания TODO1:\n",
    "#теперь для введенного пользователем производителя вы должны вывести строку, содержащую перечисление моделей и БЕЗ названия производителя.\n",
    "#например, пользователь ввел \"Autel\". ваша программа должна вывести вот такой результат: \"Evo II Pro, Evo Nano, Evo Lite Plus\". для этого вам понадобится несколько функций работы со строками. решить эту задачу можно несколькими разными способами\n",
    "#производители те же: DJI, Autel, Parrot, Ryze, Eachine\n",
    "\n",
    "modelList = \"\"\n",
    "\n",
    "print(\"Список найденных дронов:\")\n",
    "for drone in drone_list:\n",
    "    if search.lower() in drone.lower():\n",
    "        modelList += \" \".join(drone.split()[1::]) + \", \"\n",
    "print(modelList.strip().strip(\",\"))\n"
   ]
  }
 ],
 "metadata": {
  "kernelspec": {
   "display_name": "Python 3.10.4 64-bit",
   "language": "python",
   "name": "python3"
  },
  "language_info": {
   "codemirror_mode": {
    "name": "ipython",
    "version": 3
   },
   "file_extension": ".py",
   "mimetype": "text/x-python",
   "name": "python",
   "nbconvert_exporter": "python",
   "pygments_lexer": "ipython3",
   "version": "3.10.4"
  },
  "orig_nbformat": 4,
  "vscode": {
   "interpreter": {
    "hash": "26de051ba29f2982a8de78e945f0abaf191376122a1563185a90213a26c5da77"
   }
  }
 },
 "nbformat": 4,
 "nbformat_minor": 2
}
